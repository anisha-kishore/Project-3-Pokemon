{
 "cells": [
  {
   "cell_type": "code",
   "execution_count": 3,
   "id": "263ca104-9aa0-46c8-a850-4a1f34707cd2",
   "metadata": {},
   "outputs": [],
   "source": [
    "#Imports\n",
    "import pandas as pd\n",
    "from pathlib import Path"
   ]
  },
  {
   "cell_type": "code",
   "execution_count": 4,
   "id": "a3cb1b88-8a14-4ba9-8ccc-ccd758c5b06e",
   "metadata": {},
   "outputs": [
    {
     "data": {
      "text/plain": [
       "Index(['abilities', 'against_bug', 'against_dark', 'against_dragon',\n",
       "       'against_electric', 'against_fairy', 'against_fight', 'against_fire',\n",
       "       'against_flying', 'against_ghost', 'against_grass', 'against_ground',\n",
       "       'against_ice', 'against_normal', 'against_poison', 'against_psychic',\n",
       "       'against_rock', 'against_steel', 'against_water', 'attack',\n",
       "       'base_egg_steps', 'base_happiness', 'base_total', 'capture_rate',\n",
       "       'classfication', 'defense', 'experience_growth', 'height_m', 'hp',\n",
       "       'japanese_name', 'name', 'percentage_male', 'pokedex_number',\n",
       "       'sp_attack', 'sp_defense', 'speed', 'type1', 'type2', 'weight_kg',\n",
       "       'generation', 'is_legendary'],\n",
       "      dtype='object')"
      ]
     },
     "execution_count": 4,
     "metadata": {},
     "output_type": "execute_result"
    }
   ],
   "source": [
    "#Read csv\n",
    "pokemon = pd.read_csv('pokemon.csv')\n",
    "pokemon.head(50)\n",
    "pokemon.columns"
   ]
  },
  {
   "cell_type": "code",
   "execution_count": 5,
   "id": "32353663-f804-4197-8bb9-c799d1d510bb",
   "metadata": {},
   "outputs": [],
   "source": [
    "#Remove excesss columns\n",
    "pokemon_shortened=pokemon[['name', 'pokedex_number', 'against_normal', 'against_fire', 'against_water', 'against_electric', 'against_grass', 'against_ice', 'against_fight', 'against_poison', 'against_ground','against_flying','against_psychic','against_bug', 'against_rock','against_ghost','against_dragon','against_dark', 'against_steel', 'against_fairy']]"
   ]
  },
  {
   "cell_type": "code",
   "execution_count": 6,
   "id": "750c78a4-1f63-4813-aff7-488e04910544",
   "metadata": {},
   "outputs": [],
   "source": [
    "pokemon_shortened_pd = pd.DataFrame(pokemon_shortened) "
   ]
  },
  {
   "cell_type": "code",
   "execution_count": 7,
   "id": "73d7bfd3-afe6-4fde-a822-45634d809a25",
   "metadata": {},
   "outputs": [],
   "source": [
    "#Rename existing columns\n",
    "pokemon_shortened_pd.rename(columns={'name':'Name',\n",
    "                                                            'pokedex_number':'Number', \n",
    "                                                            'against_normal':'Normal', \n",
    "                                                            'against_fire':'Fire', \n",
    "                                                            'against_water':'Water', \n",
    "                                                            'against_electric':'Electric', \n",
    "                                                            'against_grass':'Grass', \n",
    "                                                            'against_ice':'Ice', \n",
    "                                                            'against_fight':'Fighting', \n",
    "                                                            'against_poison': 'Poison', \n",
    "                                                            'against_ground':'Ground',\n",
    "                                                            'against_flying':'Flying',\n",
    "                                                            'against_psychic':'Psychic',\n",
    "                                                            'against_bug':'Bug', \n",
    "                                                            'against_rock':'Rock',\n",
    "                                                            'against_ghost':'Ghost',\n",
    "                                                            'against_dragon':'Dragon',\n",
    "                                                            'against_dark':'Dark', \n",
    "                                                            'against_steel':'Steel', \n",
    "                                                            'against_fairy':'Fairy'},\n",
    "                                                   inplace=True)"
   ]
  },
  {
   "cell_type": "code",
   "execution_count": 8,
   "id": "66abb4df-6a62-4ce8-b83e-1eb3ed4dba5d",
   "metadata": {},
   "outputs": [],
   "source": [
    "#Remove duplicates\n",
    "pokemon_shortened_pd.duplicated()\n",
    "pokemon_shortened_pd= pokemon_shortened_pd.drop_duplicates()"
   ]
  },
  {
   "cell_type": "code",
   "execution_count": 9,
   "id": "394f69d1-dc36-4aa4-a23c-841f8aa3d835",
   "metadata": {},
   "outputs": [],
   "source": [
    "#Change M/F distinction\n",
    "pokemon_shortened_pd['Name'] = pokemon_shortened_pd['Name'].str.replace('♀', ' (F)').str.replace('♂',' (M)')"
   ]
  },
  {
   "cell_type": "code",
   "execution_count": 10,
   "id": "7e9ef3b0-623e-47bb-8cf9-b878f774ccf0",
   "metadata": {},
   "outputs": [],
   "source": [
    "#Replace 1 with 001\n",
    "pokemon_shortened_pd['Number'] = pokemon_shortened_pd['Number'].astype(str).str.zfill(3)"
   ]
  },
  {
   "cell_type": "code",
   "execution_count": 12,
   "id": "087b5a6e-bab2-437b-946a-6613c0d01522",
   "metadata": {},
   "outputs": [
    {
     "data": {
      "text/html": [
       "<div>\n",
       "<style scoped>\n",
       "    .dataframe tbody tr th:only-of-type {\n",
       "        vertical-align: middle;\n",
       "    }\n",
       "\n",
       "    .dataframe tbody tr th {\n",
       "        vertical-align: top;\n",
       "    }\n",
       "\n",
       "    .dataframe thead th {\n",
       "        text-align: right;\n",
       "    }\n",
       "</style>\n",
       "<table border=\"1\" class=\"dataframe\">\n",
       "  <thead>\n",
       "    <tr style=\"text-align: right;\">\n",
       "      <th></th>\n",
       "      <th>Name</th>\n",
       "      <th>Number</th>\n",
       "      <th>Normal</th>\n",
       "      <th>Fire</th>\n",
       "      <th>Water</th>\n",
       "      <th>Electric</th>\n",
       "      <th>Grass</th>\n",
       "      <th>Ice</th>\n",
       "      <th>Fighting</th>\n",
       "      <th>Poison</th>\n",
       "      <th>Ground</th>\n",
       "      <th>Flying</th>\n",
       "      <th>Psychic</th>\n",
       "      <th>Bug</th>\n",
       "      <th>Rock</th>\n",
       "      <th>Ghost</th>\n",
       "      <th>Dragon</th>\n",
       "      <th>Dark</th>\n",
       "      <th>Steel</th>\n",
       "      <th>Fairy</th>\n",
       "    </tr>\n",
       "  </thead>\n",
       "  <tbody>\n",
       "    <tr>\n",
       "      <th>0</th>\n",
       "      <td>Bulbasaur</td>\n",
       "      <td>001</td>\n",
       "      <td>1.0</td>\n",
       "      <td>2.0</td>\n",
       "      <td>0.5</td>\n",
       "      <td>0.5</td>\n",
       "      <td>0.25</td>\n",
       "      <td>2.0</td>\n",
       "      <td>0.5</td>\n",
       "      <td>1.0</td>\n",
       "      <td>1.0</td>\n",
       "      <td>2.0</td>\n",
       "      <td>2.0</td>\n",
       "      <td>1.0</td>\n",
       "      <td>1.0</td>\n",
       "      <td>1.0</td>\n",
       "      <td>1.0</td>\n",
       "      <td>1.0</td>\n",
       "      <td>1.0</td>\n",
       "      <td>0.5</td>\n",
       "    </tr>\n",
       "    <tr>\n",
       "      <th>1</th>\n",
       "      <td>Ivysaur</td>\n",
       "      <td>002</td>\n",
       "      <td>1.0</td>\n",
       "      <td>2.0</td>\n",
       "      <td>0.5</td>\n",
       "      <td>0.5</td>\n",
       "      <td>0.25</td>\n",
       "      <td>2.0</td>\n",
       "      <td>0.5</td>\n",
       "      <td>1.0</td>\n",
       "      <td>1.0</td>\n",
       "      <td>2.0</td>\n",
       "      <td>2.0</td>\n",
       "      <td>1.0</td>\n",
       "      <td>1.0</td>\n",
       "      <td>1.0</td>\n",
       "      <td>1.0</td>\n",
       "      <td>1.0</td>\n",
       "      <td>1.0</td>\n",
       "      <td>0.5</td>\n",
       "    </tr>\n",
       "    <tr>\n",
       "      <th>2</th>\n",
       "      <td>Venusaur</td>\n",
       "      <td>003</td>\n",
       "      <td>1.0</td>\n",
       "      <td>2.0</td>\n",
       "      <td>0.5</td>\n",
       "      <td>0.5</td>\n",
       "      <td>0.25</td>\n",
       "      <td>2.0</td>\n",
       "      <td>0.5</td>\n",
       "      <td>1.0</td>\n",
       "      <td>1.0</td>\n",
       "      <td>2.0</td>\n",
       "      <td>2.0</td>\n",
       "      <td>1.0</td>\n",
       "      <td>1.0</td>\n",
       "      <td>1.0</td>\n",
       "      <td>1.0</td>\n",
       "      <td>1.0</td>\n",
       "      <td>1.0</td>\n",
       "      <td>0.5</td>\n",
       "    </tr>\n",
       "    <tr>\n",
       "      <th>3</th>\n",
       "      <td>Charmander</td>\n",
       "      <td>004</td>\n",
       "      <td>1.0</td>\n",
       "      <td>0.5</td>\n",
       "      <td>2.0</td>\n",
       "      <td>1.0</td>\n",
       "      <td>0.50</td>\n",
       "      <td>0.5</td>\n",
       "      <td>1.0</td>\n",
       "      <td>1.0</td>\n",
       "      <td>2.0</td>\n",
       "      <td>1.0</td>\n",
       "      <td>1.0</td>\n",
       "      <td>0.5</td>\n",
       "      <td>2.0</td>\n",
       "      <td>1.0</td>\n",
       "      <td>1.0</td>\n",
       "      <td>1.0</td>\n",
       "      <td>0.5</td>\n",
       "      <td>0.5</td>\n",
       "    </tr>\n",
       "    <tr>\n",
       "      <th>4</th>\n",
       "      <td>Charmeleon</td>\n",
       "      <td>005</td>\n",
       "      <td>1.0</td>\n",
       "      <td>0.5</td>\n",
       "      <td>2.0</td>\n",
       "      <td>1.0</td>\n",
       "      <td>0.50</td>\n",
       "      <td>0.5</td>\n",
       "      <td>1.0</td>\n",
       "      <td>1.0</td>\n",
       "      <td>2.0</td>\n",
       "      <td>1.0</td>\n",
       "      <td>1.0</td>\n",
       "      <td>0.5</td>\n",
       "      <td>2.0</td>\n",
       "      <td>1.0</td>\n",
       "      <td>1.0</td>\n",
       "      <td>1.0</td>\n",
       "      <td>0.5</td>\n",
       "      <td>0.5</td>\n",
       "    </tr>\n",
       "  </tbody>\n",
       "</table>\n",
       "</div>"
      ],
      "text/plain": [
       "         Name Number  Normal  Fire  Water  Electric  Grass  Ice  Fighting  \\\n",
       "0   Bulbasaur    001     1.0   2.0    0.5       0.5   0.25  2.0       0.5   \n",
       "1     Ivysaur    002     1.0   2.0    0.5       0.5   0.25  2.0       0.5   \n",
       "2    Venusaur    003     1.0   2.0    0.5       0.5   0.25  2.0       0.5   \n",
       "3  Charmander    004     1.0   0.5    2.0       1.0   0.50  0.5       1.0   \n",
       "4  Charmeleon    005     1.0   0.5    2.0       1.0   0.50  0.5       1.0   \n",
       "\n",
       "   Poison  Ground  Flying  Psychic  Bug  Rock  Ghost  Dragon  Dark  Steel  \\\n",
       "0     1.0     1.0     2.0      2.0  1.0   1.0    1.0     1.0   1.0    1.0   \n",
       "1     1.0     1.0     2.0      2.0  1.0   1.0    1.0     1.0   1.0    1.0   \n",
       "2     1.0     1.0     2.0      2.0  1.0   1.0    1.0     1.0   1.0    1.0   \n",
       "3     1.0     2.0     1.0      1.0  0.5   2.0    1.0     1.0   1.0    0.5   \n",
       "4     1.0     2.0     1.0      1.0  0.5   2.0    1.0     1.0   1.0    0.5   \n",
       "\n",
       "   Fairy  \n",
       "0    0.5  \n",
       "1    0.5  \n",
       "2    0.5  \n",
       "3    0.5  \n",
       "4    0.5  "
      ]
     },
     "execution_count": 12,
     "metadata": {},
     "output_type": "execute_result"
    }
   ],
   "source": [
    "#Check datatype and change as needed\n",
    "pokemon_shortened_pd.head(5)"
   ]
  },
  {
   "cell_type": "code",
   "execution_count": 13,
   "id": "691fa05e-ec1b-4f2b-bbeb-2639533d0999",
   "metadata": {},
   "outputs": [],
   "source": [
    "pokemon_shortened_pd=pokemon_shortened_pd.iloc[:151]"
   ]
  },
  {
   "cell_type": "code",
   "execution_count": 14,
   "id": "1610148e-31b0-44d5-878d-a2dd678e095f",
   "metadata": {},
   "outputs": [
    {
     "name": "stdout",
     "output_type": "stream",
     "text": [
      "<class 'pandas.core.frame.DataFrame'>\n",
      "RangeIndex: 151 entries, 0 to 150\n",
      "Data columns (total 20 columns):\n",
      " #   Column    Non-Null Count  Dtype  \n",
      "---  ------    --------------  -----  \n",
      " 0   Name      151 non-null    object \n",
      " 1   Number    151 non-null    object \n",
      " 2   Normal    151 non-null    float64\n",
      " 3   Fire      151 non-null    float64\n",
      " 4   Water     151 non-null    float64\n",
      " 5   Electric  151 non-null    float64\n",
      " 6   Grass     151 non-null    float64\n",
      " 7   Ice       151 non-null    float64\n",
      " 8   Fighting  151 non-null    float64\n",
      " 9   Poison    151 non-null    float64\n",
      " 10  Ground    151 non-null    float64\n",
      " 11  Flying    151 non-null    float64\n",
      " 12  Psychic   151 non-null    float64\n",
      " 13  Bug       151 non-null    float64\n",
      " 14  Rock      151 non-null    float64\n",
      " 15  Ghost     151 non-null    float64\n",
      " 16  Dragon    151 non-null    float64\n",
      " 17  Dark      151 non-null    float64\n",
      " 18  Steel     151 non-null    float64\n",
      " 19  Fairy     151 non-null    float64\n",
      "dtypes: float64(18), object(2)\n",
      "memory usage: 23.7+ KB\n"
     ]
    }
   ],
   "source": [
    "pokemon_shortened_pd.info()"
   ]
  },
  {
   "cell_type": "code",
   "execution_count": 15,
   "id": "a602148a-3685-48e6-9294-931eba352d8c",
   "metadata": {},
   "outputs": [],
   "source": [
    "#Export as a separate csv\n",
    "pokemon_shortened_pd.to_csv('Pokemon_damage.csv', index=False)"
   ]
  },
  {
   "cell_type": "code",
   "execution_count": null,
   "id": "29365621-1078-43e7-b91f-a44de642474e",
   "metadata": {},
   "outputs": [],
   "source": []
  }
 ],
 "metadata": {
  "kernelspec": {
   "display_name": "Python 3 (ipykernel)",
   "language": "python",
   "name": "python3"
  },
  "language_info": {
   "codemirror_mode": {
    "name": "ipython",
    "version": 3
   },
   "file_extension": ".py",
   "mimetype": "text/x-python",
   "name": "python",
   "nbconvert_exporter": "python",
   "pygments_lexer": "ipython3",
   "version": "3.11.7"
  }
 },
 "nbformat": 4,
 "nbformat_minor": 5
}
